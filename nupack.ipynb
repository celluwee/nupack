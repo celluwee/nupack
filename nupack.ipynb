{
 "cells": [
  {
   "cell_type": "code",
   "execution_count": 4,
   "id": "c9fc4715",
   "metadata": {},
   "outputs": [
    {
     "name": "stdout",
     "output_type": "stream",
     "text": [
      "76\n"
     ]
    }
   ],
   "source": [
    "i = ''\n",
    "i_str = 'GGTATAGGCTGAGTG'\n",
    "i_list = list(i_str)\n",
    "x = ''\n",
    "nucs = ['A', 'T', 'C', 'G']\n",
    "dict_nucs = {'A':'T','C':'G','G':'C','T':'A'}\n",
    "print(randint(0,100))\n",
    "for i in I:\n",
    "def complementary(dict_nucs, dna):\n",
    "    dna = list(reversed(dna))\n",
    "    compl_dna = []\n",
    "    for el in dna:\n",
    "        x = dict_nucs.get(el)\n",
    "        compl_dna.append(x)\n",
    "    return compl_dna\n",
    "$arr = array_diff($arr, array('a'))"
   ]
  },
  {
   "cell_type": "code",
   "execution_count": null,
   "id": "b3556521",
   "metadata": {},
   "outputs": [],
   "source": [
    "from nupack import *\n",
    "from itertools import product\n",
    "q1 = Strand('CCATATCCGACTCAC', name='q1')\n",
    "s1 = Strand('TTGAGTTGGCTATGA', name='s1')\n",
    "i1 = Strand('GGTATAGGCTGAGTG', name='i1')\n",
    "nucs = ['A', 'T', 'C', 'G']\n",
    "c_is = 0\n",
    "c_iq = 0\n",
    "# Define physical model\n",
    "my_model = Model(material='dna', celsius=25)\n",
    "# specify tubes\n",
    "t1 = Tube(strands={q1:1e-6, s1:1e-6, i1:1e-6}, complexes=SetSpec(max_size=2), name='Tube t1')\n",
    "# analyze tubes\n",
    "\n",
    "tube_results = tube_analysis(tubes=[t1], model=my_model)\n",
    "t1_result = tube_results[t1] # equivalent to my_result['t1']\n",
    "\n",
    "for item in product(['A', 'T', 'C', 'G'], repeat=15):                         #all possible combinations\n",
    "    item = ''.join(item)\n",
    "    i1 = Strand(item, name='i1')\n",
    "    t1 = Tube(strands={q1:1e-6, s1:1e-6, i1:1e-6}, complexes=SetSpec(max_size=2), name='Tube t1')\n",
    "    tube_results = tube_analysis(tubes=[t1], model=my_model)\n",
    "    t1_result = tube_results[t1]\n",
    "    for my_complex, conc in t1_result.complex_concentrations.items():\n",
    "        if my_complex.name == '(q1+i1)' or my_complex.name == '(i1+q1)':\n",
    "            c_iq = conc\n",
    "        if my_complex.name == '(s1+i1)' or my_complex.name == '(i1+s1)':\n",
    "            c_is = conc\n",
    "    kd_is = (1 - c_is * 10**6)**2 / (c_is * 10**6) * 10**(-6)\n",
    "    print(kd_is)\n",
    "    kd_iq = (1 - c_iq * 10**6)**2 / (c_iq * 10**6) * 10**(-6)              \n",
    "    if kd_is > 10**(-3) and 10**(-10) <= kd_iq <= 10**(-8):\n",
    "        print(i1)"
   ]
  },
  {
   "cell_type": "code",
   "execution_count": 12,
   "id": "6867644a",
   "metadata": {},
   "outputs": [
    {
     "name": "stdout",
     "output_type": "stream",
     "text": [
      "GCGTAT\n"
     ]
    }
   ],
   "source": [
    "def complementary(dict_nucs, dna):\n",
    "    dna = list(reversed(dna))\n",
    "    compl_dna = []\n",
    "    for el in dna:\n",
    "        x = dict_nucs.get(el)\n",
    "        compl_dna.append(x)\n",
    "    compl_dna = ''.join(compl_dna)\n",
    "    return compl_dna\n",
    "i_ = complementary({'A':'T','C':'G','G':'C','T':'A'}, 'ATACGC')\n",
    "print(i_)"
   ]
  },
  {
   "cell_type": "code",
   "execution_count": null,
   "id": "90a0df30",
   "metadata": {},
   "outputs": [],
   "source": []
  },
  {
   "cell_type": "code",
   "execution_count": null,
   "id": "4e4e6ed6",
   "metadata": {},
   "outputs": [],
   "source": []
  }
 ],
 "metadata": {
  "kernelspec": {
   "display_name": "Python 3 (ipykernel)",
   "language": "python",
   "name": "python3"
  },
  "language_info": {
   "codemirror_mode": {
    "name": "ipython",
    "version": 3
   },
   "file_extension": ".py",
   "mimetype": "text/x-python",
   "name": "python",
   "nbconvert_exporter": "python",
   "pygments_lexer": "ipython3",
   "version": "3.9.12"
  }
 },
 "nbformat": 4,
 "nbformat_minor": 5
}
